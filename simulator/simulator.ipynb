{
 "cells": [
  {
   "cell_type": "code",
   "execution_count": 1,
   "metadata": {
    "collapsed": true
   },
   "outputs": [],
   "source": [
    "import numpy as np\n",
    "import pandas as pd\n",
    "\n",
    "from simulator import *"
   ]
  },
  {
   "cell_type": "code",
   "execution_count": 2,
   "outputs": [],
   "source": [
    "lobs_path = '../data/1/btcusdt:Binance:LinearPerpetual/lobs.csv'\n",
    "trades_path = '../data/1/btcusdt:Binance:LinearPerpetual/trades.csv'"
   ],
   "metadata": {
    "collapsed": false
   }
  },
  {
   "cell_type": "code",
   "execution_count": 3,
   "outputs": [],
   "source": [
    "market_data = load_md_from_files(lobs_path, trades_path)"
   ],
   "metadata": {
    "collapsed": false
   }
  },
  {
   "cell_type": "code",
   "execution_count": 4,
   "outputs": [
    {
     "data": {
      "text/plain": "OrderbookSnapshotUpdate(receive_ts=1655942402250125991, exchange_ts=1655942402249000000, asks=[(19977.5, 0.079), (19977.8, 0.003), (19977.9, 0.003), (19978.0, 1.283), (19978.5, 0.001), (19979.0, 0.612), (19979.2, 0.216), (19980.0, 1.117), (19980.1, 0.01), (19980.2, 0.01)], bids=[(19977.4, 12.381), (19976.7, 0.066), (19976.4, 0.05), (19976.1, 0.146), (19976.0, 0.205), (19975.9, 0.246), (19975.8, 0.686), (19975.7, 4.455), (19975.6, 1.529), (19975.4, 1.641)])"
     },
     "execution_count": 4,
     "metadata": {},
     "output_type": "execute_result"
    }
   ],
   "source": [
    "market_data[0].orderbook"
   ],
   "metadata": {
    "collapsed": false
   }
  },
  {
   "cell_type": "code",
   "execution_count": 5,
   "outputs": [
    {
     "data": {
      "text/plain": "AnonTrade(receive_ts=1655942405293556247, exchange_ts=1655942405292000000, side='BID', size=0.041, price=19977.5)"
     },
     "execution_count": 5,
     "metadata": {},
     "output_type": "execute_result"
    }
   ],
   "source": [
    "market_data[10].trade"
   ],
   "metadata": {
    "collapsed": false
   }
  },
  {
   "cell_type": "code",
   "execution_count": null,
   "outputs": [],
   "source": [],
   "metadata": {
    "collapsed": false
   }
  }
 ],
 "metadata": {
  "kernelspec": {
   "display_name": "Python 3",
   "language": "python",
   "name": "python3"
  },
  "language_info": {
   "codemirror_mode": {
    "name": "ipython",
    "version": 2
   },
   "file_extension": ".py",
   "mimetype": "text/x-python",
   "name": "python",
   "nbconvert_exporter": "python",
   "pygments_lexer": "ipython2",
   "version": "2.7.6"
  }
 },
 "nbformat": 4,
 "nbformat_minor": 0
}
