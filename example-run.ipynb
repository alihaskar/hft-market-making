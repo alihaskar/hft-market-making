{
 "cells": [
  {
   "cell_type": "code",
   "execution_count": 1,
   "outputs": [],
   "source": [
    "%load_ext autoreload\n",
    "%autoreload 2\n",
    "\n",
    "import datetime\n",
    "import pandas as pd\n",
    "import plotly.express as px\n",
    "\n",
    "from simulator import *\n",
    "from strategy import *"
   ],
   "metadata": {
    "collapsed": false
   }
  },
  {
   "cell_type": "code",
   "execution_count": 2,
   "metadata": {
    "collapsed": true
   },
   "outputs": [],
   "source": [
    "lobs_path = 'data/1/btcusdt:Binance:LinearPerpetual/lobs.csv'\n",
    "trades_path = 'data/1/btcusdt:Binance:LinearPerpetual/trades.csv'\n",
    "ACCOUNT_SIZE = 20000"
   ]
  },
  {
   "cell_type": "code",
   "execution_count": 3,
   "outputs": [
    {
     "name": "stdout",
     "output_type": "stream",
     "text": [
      "Loading market data...\n",
      "Creating a list of MdUpdate objects... "
     ]
    },
    {
     "data": {
      "text/plain": "  0%|          | 0/149148 [00:00<?, ?it/s]",
      "application/vnd.jupyter.widget-view+json": {
       "version_major": 2,
       "version_minor": 0,
       "model_id": "4f9021c9c2b046e597be545905cf65fc"
      }
     },
     "metadata": {},
     "output_type": "display_data"
    },
    {
     "name": "stdout",
     "output_type": "stream",
     "text": [
      "\n"
     ]
    },
    {
     "data": {
      "text/plain": "  0%|          | 0/149137 [00:00<?, ?it/s]",
      "application/vnd.jupyter.widget-view+json": {
       "version_major": 2,
       "version_minor": 0,
       "model_id": "b2dff2585ad34c4a8a5405f350d9b03c"
      }
     },
     "metadata": {},
     "output_type": "display_data"
    },
    {
     "name": "stdout",
     "output_type": "stream",
     "text": [
      "Running the strategy...\n",
      "\n",
      "Done.\n"
     ]
    }
   ],
   "source": [
    "sim = ExchangeSimulator(lobs_path, trades_path,\n",
    "                        exec_latency=10_000_000, updates_latency=10_000_000,\n",
    "                        account_size=ACCOUNT_SIZE, fee=0.001,\n",
    "                        min_ts=None, max_ts=pd.Timestamp('2022-06-23 00:20:00'))\n",
    "strategy = Strategy(sim, max_position=10000, order_lifetime=100_000_000,\n",
    "                    enable_log=False)\n",
    "strategy.run()"
   ],
   "metadata": {
    "collapsed": false
   }
  },
  {
   "cell_type": "code",
   "execution_count": 4,
   "outputs": [],
   "source": [
    "pnl_history = sim.get_value_history()\n",
    "pnl_history['account_value'] = (pnl_history['account_value'] / ACCOUNT_SIZE - 1) * 100\n",
    "pnl_history.rename(columns={'account_value': 'pnl'}, inplace=True)"
   ],
   "metadata": {
    "collapsed": false
   }
  },
  {
   "cell_type": "code",
   "execution_count": null,
   "outputs": [],
   "source": [
    "fig = px.line(pnl_history, x='exchange_ts', y='pnl')\n",
    "fig.update_layout(xaxis_title='Exchange time', yaxis_title='PnL, %',\n",
    "                  title='PnL history')\n",
    "fig.show()\n",
    "time_str = datetime.datetime.now().strftime('%d.%m.%Y-%H:%M:%S')\n",
    "plot_filename = f'value-history-{time_str}.png'\n",
    "fig.write_image(f'output/plots/{plot_filename}')"
   ],
   "metadata": {
    "collapsed": false,
    "pycharm": {
     "is_executing": true
    }
   }
  },
  {
   "cell_type": "markdown",
   "source": [
    "![example-run.png](output/plots/example-run.png)"
   ],
   "metadata": {
    "collapsed": false
   }
  }
 ],
 "metadata": {
  "kernelspec": {
   "display_name": "Python 3",
   "language": "python",
   "name": "python3"
  },
  "language_info": {
   "codemirror_mode": {
    "name": "ipython",
    "version": 2
   },
   "file_extension": ".py",
   "mimetype": "text/x-python",
   "name": "python",
   "nbconvert_exporter": "python",
   "pygments_lexer": "ipython2",
   "version": "2.7.6"
  }
 },
 "nbformat": 4,
 "nbformat_minor": 0
}
