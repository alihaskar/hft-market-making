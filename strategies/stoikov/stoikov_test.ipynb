{
 "cells": [
  {
   "cell_type": "code",
   "execution_count": 10,
   "outputs": [
    {
     "name": "stdout",
     "output_type": "stream",
     "text": [
      "The autoreload extension is already loaded. To reload it, use:\n",
      "  %reload_ext autoreload\n"
     ]
    }
   ],
   "source": [
    "%load_ext autoreload\n",
    "%autoreload 2"
   ],
   "metadata": {
    "collapsed": false
   }
  },
  {
   "cell_type": "code",
   "execution_count": 11,
   "outputs": [],
   "source": [
    "import sys\n",
    "sys.path.append('../..')"
   ],
   "metadata": {
    "collapsed": false
   }
  },
  {
   "cell_type": "code",
   "execution_count": 12,
   "outputs": [],
   "source": [
    "import pandas as pd\n",
    "import plotly.express as px\n",
    "import plotly.graph_objs as go\n",
    "from plotly.subplots import make_subplots\n",
    "import copy\n",
    "import yaml\n",
    "import datetime\n",
    "from typing import Tuple, Dict\n",
    "\n",
    "from simulator_external.simulator.simulator import *\n",
    "from simulator_external.simulator.load_data import load_md_from_file\n",
    "from stoikov import StoikovStrategy\n",
    "from simulator_external.simulator.get_info import get_metrics, md_to_dataframe"
   ],
   "metadata": {
    "collapsed": false
   }
  },
  {
   "cell_type": "code",
   "execution_count": 13,
   "outputs": [],
   "source": [
    "MARKET_DATA_PATH = '../../data/1/btcusdt:Binance:LinearPerpetual/'"
   ],
   "metadata": {
    "collapsed": false
   }
  },
  {
   "cell_type": "markdown",
   "source": [
    "# Stoikov strategy\n",
    "\n",
    "Article: [Stoikov 2008] Avellaneda, M., & Stoikov, S. (2008). High-frequency trading in a limit order book. Quantitative Finance, 8(3), 217-224.\n",
    "\n",
    "**1. Reservation price**\n",
    "$$ r(s, t) = s - q \\gamma \\sigma^2 (T-t). $$\n",
    "\n",
    "- $s$ is mid-price.\n",
    "- $q$ is position size in base asset.\n",
    "- $T$ is terminal time.\n",
    "- $t$ is current time.\n",
    "- $\\sigma$ is volatiliaty of standard Brownian motion ($dS = \\sigma dW$), by which the price is modeled in this article.\n",
    "- $\\gamma$ -- risk aversity.\n",
    "\n",
    "$\\sigma$ and $\\gamma$ are parameters of the strategy.\n",
    "\n",
    "**2. Spread**\n",
    "\n",
    "$$ \\delta^a + \\delta^b = \\gamma\\sigma^2(T-t) + \\frac{2}{\\gamma} \\log\\left(1 + \\frac{\\gamma}{k}\\right).$$\n",
    "\n",
    "Here $k = \\alpha K$, where\n",
    "- $\\alpha$ is from $f^Q(x) \\propto x^{-1-\\alpha}$ -- density of market order size (formula 9 from [Stoikov 2008]);\n",
    "- $K$ is from $\\Delta p \\propto K^{-1} \\log(Q)$ (formulas 11, 12 from [Stoikov 2008])."
   ],
   "metadata": {
    "collapsed": false
   }
  },
  {
   "cell_type": "markdown",
   "source": [
    "# Mid-price from market data\n",
    "\n",
    "![BTC mid-price](../../eda/pics/btc/midprice.png)"
   ],
   "metadata": {
    "collapsed": false
   }
  },
  {
   "cell_type": "markdown",
   "source": [
    "# [Optional] Calculate parameter $\\sigma$"
   ],
   "metadata": {
    "collapsed": false
   }
  },
  {
   "cell_type": "code",
   "execution_count": 14,
   "outputs": [],
   "source": [
    "# midprices = get_midprices(md)\n",
    "# increments = midprices[1:] - midprices[:-1]\n",
    "# sigma = np.std(increments)\n",
    "# print(f'σ = {sigma}')"
   ],
   "metadata": {
    "collapsed": false
   }
  },
  {
   "cell_type": "markdown",
   "source": [
    "# Visualize results of the simulation"
   ],
   "metadata": {
    "collapsed": false
   }
  },
  {
   "cell_type": "code",
   "execution_count": 15,
   "outputs": [],
   "source": [
    "def plot_metrics(metrics, metrics_numeric, title=''):\n",
    "    fig = make_subplots(rows=5, cols=1, row_heights=[0.3, 0.3, 0.2, 0.2, 0.2], shared_xaxes=True, vertical_spacing=0.005)\n",
    "    fig.add_trace(go.Scatter(\n",
    "        name='PnL',\n",
    "        x=metrics['receive_ts'],\n",
    "        y=metrics['worth_quote'],\n",
    "        line=dict(color=px.colors.qualitative.Plotly[0]),\n",
    "        showlegend=False\n",
    "    ), row=1, col=1)\n",
    "\n",
    "    fig.add_trace(go.Scatter(\n",
    "        name='Mid-price',\n",
    "        x=metrics['receive_ts'],\n",
    "        y=metrics['mid_price'],\n",
    "        line=dict(color=px.colors.qualitative.Plotly[5]),\n",
    "        showlegend=False\n",
    "    ), row=2, col=1)\n",
    "\n",
    "    fig.add_trace(go.Scatter(\n",
    "        name='Volume',\n",
    "        x=metrics['receive_ts'],\n",
    "        y=metrics['volume'],\n",
    "        line=dict(color=px.colors.qualitative.Plotly[2]),\n",
    "        showlegend=False\n",
    "    ), row=3, col=1)\n",
    "\n",
    "    fig.add_trace(go.Scatter(\n",
    "        name='Base balance',\n",
    "        x=metrics['receive_ts'],\n",
    "        y=metrics['base_balance'],\n",
    "        line=dict(color=px.colors.qualitative.Plotly[3]),\n",
    "        showlegend=False\n",
    "    ), row=4, col=1)\n",
    "\n",
    "    fig.add_trace(go.Scatter(\n",
    "        name='Quote balance',\n",
    "        x=metrics['receive_ts'],\n",
    "        y=metrics['quote_balance'],\n",
    "        line=dict(color=px.colors.qualitative.Plotly[4]),\n",
    "        showlegend=False\n",
    "    ), row=5, col=1)\n",
    "\n",
    "    metrics_numeric_txt = yaml.dump(metrics_numeric, default_flow_style=False, sort_keys=False).replace('\\n', '<br>')\n",
    "    fig.add_annotation(text=metrics_numeric_txt,\n",
    "                       xref='paper', yref='paper', x=1, y=0.9,\n",
    "                       align='left', font={'family': 'monospace'})\n",
    "\n",
    "    time_str = datetime.datetime.now().strftime('%Y-%m-%d %H:%M:%S')\n",
    "    title += f'<br>Backtest launch time: {time_str}'\n",
    "\n",
    "    fig.update_layout(width=1000, height=1400, hovermode='x unified',\n",
    "                      title=title, xaxis5_title='Receive time',\n",
    "                      yaxis1_title='PnL (account worth in quote asset)', yaxis2_title='Mid-price',\n",
    "                      yaxis3_title='Trade volume', yaxis4_title='Base asset balance',\n",
    "                      yaxis5_title='Quote asset balance')\n",
    "    fig.update_traces(xaxis='x1')\n",
    "    return fig"
   ],
   "metadata": {
    "collapsed": false
   }
  },
  {
   "cell_type": "markdown",
   "source": [
    "# Run the backtesting"
   ],
   "metadata": {
    "collapsed": false
   }
  },
  {
   "cell_type": "code",
   "execution_count": 16,
   "outputs": [],
   "source": [
    "def my_round(x, ndigits):\n",
    "    return round(float(x), ndigits)\n",
    "\n",
    "def backtest(md, sim_params: dict, strat_params: dict, fee: float) -> Tuple[pd.DataFrame, Dict]:\n",
    "    \"\"\"Run backtest and return results.\n",
    "    Args:\n",
    "        md: Parameter `md` (market data) for `Sim` constructor.\n",
    "        sim_params: All parameters for `Sim` constructor, except `md`\n",
    "        strat_params: All parameters for StoikovStrategy constructor, except `sim`.\n",
    "        fee: Parameter `fee` for `get_metrics()` function.\n",
    "    Returns:\n",
    "        Simulation metrics in form of time series and single quantities.\n",
    "    \"\"\"\n",
    "    sim = Sim(md, **sim_params)\n",
    "    strategy = StoikovStrategy(sim, **strat_params)\n",
    "    trades_list, md_list, updates_list, all_orders = strategy.run()\n",
    "    metrics = get_metrics(updates_list, fee=fee)\n",
    "    metrics_numeric = {\n",
    "        'Final PnL':    my_round(metrics['worth_quote'].iloc[-1], 2),\n",
    "        'Final volume': my_round(metrics['volume'].iloc[-1], 3),\n",
    "        'Base balance': {\n",
    "            'min':    my_round(metrics['base_balance'].min(), 3),\n",
    "            'max':    my_round(metrics['base_balance'].max(), 3),\n",
    "            'median': my_round(metrics['base_balance'].median(), 3),\n",
    "        },\n",
    "        'Quote balance': {\n",
    "            'min':    my_round(metrics['quote_balance'].min(), 2),\n",
    "            'max':    my_round(metrics['quote_balance'].max(), 2),\n",
    "            'median': my_round(metrics['quote_balance'].median(), 2),\n",
    "        }\n",
    "    }\n",
    "    return metrics, metrics_numeric"
   ],
   "metadata": {
    "collapsed": false
   }
  },
  {
   "cell_type": "markdown",
   "source": [
    "## Compare simulations with different values of $\\gamma$"
   ],
   "metadata": {
    "collapsed": false
   }
  },
  {
   "cell_type": "code",
   "execution_count": 17,
   "outputs": [],
   "source": [
    "MIN_TS = pd.Timestamp('2022-06-23 15:35:00')\n",
    "MAX_TS = pd.Timestamp('2022-06-23 19:00:00')"
   ],
   "metadata": {
    "collapsed": false
   }
  },
  {
   "cell_type": "code",
   "execution_count": 18,
   "outputs": [],
   "source": [
    "md = load_md_from_file(MARKET_DATA_PATH, MIN_TS, MAX_TS)"
   ],
   "metadata": {
    "collapsed": false
   }
  },
  {
   "cell_type": "code",
   "execution_count": 19,
   "outputs": [],
   "source": [
    "sim_params = {\n",
    "    'execution_latency': 10_000_000,\n",
    "    'md_latency': 10_000_000\n",
    "}\n",
    "strat_params = {\n",
    "    'gamma': None,  # Will be set in the loop\n",
    "    'k': 0.8,  # calculated from BTCUSDT market data (see eda/eda-btc.ipynb)\n",
    "    'sigma': 1,\n",
    "    'adjust_delay': 1_000_000,\n",
    "    'order_size': 0.001,\n",
    "    'min_order_size': 0.001,\n",
    "    'precision': 2\n",
    "}\n",
    "FEE = 0.0002"
   ],
   "metadata": {
    "collapsed": false
   }
  },
  {
   "cell_type": "code",
   "execution_count": null,
   "outputs": [],
   "source": [
    "metrics_list = []\n",
    "metrics_numeric_list = []\n",
    "fig_list = []\n",
    "GAMMA_VALUES = [0.002, 0.005, 0.04, 0.01, 0.1, 0.5, 1, 2, 4]\n",
    "\n",
    "for gamma in tqdm(GAMMA_VALUES):\n",
    "    strat_params['gamma'] = gamma\n",
    "    metrics, metrics_numeric = backtest(md, sim_params, strat_params, fee=FEE)\n",
    "    metrics_list.append(metrics)\n",
    "    metrics_numeric_list.append(metrics_numeric)\n",
    "\n",
    "    fig = plot_metrics(metrics[::60], metrics_numeric,\n",
    "                       title=f'gamma: {strat_params[\"gamma\"]}, k: {strat_params[\"k\"]}, '\n",
    "                             f'sigma: {strat_params[\"sigma\"]}, fee: {FEE*100}%')\n",
    "    img_name = f'gamma_{gamma}.png'\n",
    "    fig.write_image(f'backtesting_results/{img_name}')\n",
    "\n",
    "with open('backtesting_results/input_params.yaml', 'w') as f:\n",
    "    strat_params_copy = copy.deepcopy(strat_params)\n",
    "    strat_params_copy['gamma'] = GAMMA_VALUES\n",
    "    params = {\n",
    "        'Simulator parameters': sim_params,\n",
    "        'Strategy parameters': strat_params_copy,\n",
    "        'Maker/taker fee': FEE\n",
    "    }\n",
    "    f.write(yaml.dump(params, default_flow_style=False, sort_keys=False))"
   ],
   "metadata": {
    "collapsed": false,
    "pycharm": {
     "is_executing": true
    }
   }
  },
  {
   "cell_type": "markdown",
   "source": [
    "## Backtesting results\n",
    "\n",
    "The results are saved in `backtesting_results`. Interactive plots can be drawn with `fig.show()`. Pre-computed results for this notebook can be found in `backtesting_resultsing/compare_gamma`.\n",
    "\n",
    "![gamma_2.png](backtesting_results/compare_gamma/gamma_2.png)"
   ],
   "metadata": {
    "collapsed": false
   }
  },
  {
   "cell_type": "markdown",
   "source": [],
   "metadata": {
    "collapsed": false
   }
  }
 ],
 "metadata": {
  "kernelspec": {
   "display_name": "Python 3",
   "language": "python",
   "name": "python3"
  },
  "language_info": {
   "codemirror_mode": {
    "name": "ipython",
    "version": 2
   },
   "file_extension": ".py",
   "mimetype": "text/x-python",
   "name": "python",
   "nbconvert_exporter": "python",
   "pygments_lexer": "ipython2",
   "version": "2.7.6"
  }
 },
 "nbformat": 4,
 "nbformat_minor": 0
}
